{
 "cells": [
  {
   "cell_type": "code",
   "execution_count": 29,
   "id": "5d585029",
   "metadata": {},
   "outputs": [],
   "source": [
    "f=open('pus.txt','w')\n",
    "f.write('Hey everyone this is latha from Srm. I hope you all are good.\\n This is file indexing and it operates basically on two modes read and write\\nThe read mode ensures the text is readen by user.\\nAnd the write mode ensures that the text is written and we have another mode known as append which adds to the text We also have seek and tell seek ensures to print the lines.Dear Candidate,We here at Foxmula, came across your profile \\nwhile sourcing candidates for our corporate clients to fulfil their requirement.Given we havent selected you for one of those positions, we are elated to inform you that your profile has been shortlisted\\n for our Microsoft certification, training and internship programs.These programs are designed to build one profile from scratch with practical training\\n from experts, globally recognised certificates and your initial work experience in any field you fancy.So go ahead and apply via the link given below. If you meet the standards, our counsellors will contact you and we can move on from there.')\n",
    "f.close()"
   ]
  },
  {
   "cell_type": "code",
   "execution_count": 30,
   "id": "61538cbd",
   "metadata": {},
   "outputs": [
    {
     "name": "stdout",
     "output_type": "stream",
     "text": [
      "['The read mode ensures the text is readen by user.\\n', 'And the write mode ensures that the text is written and we have another mode known as append which adds to the text We also have seek and tell seek ensures to print the lines.Dear Candidate,We here at Foxmula, came across your profile \\n', 'while sourcing candidates for our corporate clients to fulfil their requirement.Given we havent selected you for one of those positions, we are elated to inform you that your profile has been shortlisted\\n', ' for our Microsoft certification, training and internship programs.These programs are designed to build one profile from scratch with practical training\\n', ' from experts, globally recognised certificates and your initial work experience in any field you fancy.So go ahead and apply via the link given below. If you meet the standards, our counsellors will contact you and we can move on from there.']\n"
     ]
    }
   ],
   "source": [
    "f=open('pus.txt','r')\n",
    "l=f.readlines()\n",
    "s=l[-5:]\n",
    "print(s)\n",
    "f.close()\n",
    "    "
   ]
  },
  {
   "cell_type": "code",
   "execution_count": 31,
   "id": "01e0f0c7",
   "metadata": {},
   "outputs": [],
   "source": [
    "#Task 2 - Create a function for appending data into a file¶\n",
    "def append_d(f):\n",
    "    f=open('pus.txt','a')\n",
    "    f.write('Yes')\n",
    "    f.close()\n",
    "append_d(f)"
   ]
  },
  {
   "cell_type": "code",
   "execution_count": 32,
   "id": "c7d1a776",
   "metadata": {},
   "outputs": [
    {
     "name": "stdout",
     "output_type": "stream",
     "text": [
      "Hey everyone this is latha from Srm. I hope you all are good.\n",
      " This is file indexing and it operates basically on two modes read and write\n",
      "The read mode ensures the text is readen by user.\n",
      "And the write mode ensures that the text is written and we have another mode known as append which adds to the text We also have seek and tell seek ensures to print the lines.Dear Candidate,We here at Foxmula, came across your profile \n",
      "while sourcing candidates for our corporate clients to fulfil their requirement.Given we havent selected you for one of those positions, we are elated to inform you that your profile has been shortlisted\n",
      " for our Microsoft certification, training and internship programs.These programs are designed to build one profile from scratch with practical training\n",
      " from experts, globally recognised certificates and your initial work experience in any field you fancy.So go ahead and apply via the link given below. If you meet the standards, our counsellors will contact you and we can move on from there.Yes\n"
     ]
    }
   ],
   "source": [
    "f=open('pus.txt','r')\n",
    "print(f.read())\n",
    "f.close()"
   ]
  },
  {
   "cell_type": "code",
   "execution_count": 1,
   "id": "39ebf420",
   "metadata": {},
   "outputs": [
    {
     "name": "stdout",
     "output_type": "stream",
     "text": [
      "Enter data to be replaced Hey everyone this is latha from Srm\n",
      "Enter data to replace existing one Hello, everyone this is Pushpa latha from SRM.\n",
      "Enter the name of file pus.txt\n"
     ]
    }
   ],
   "source": [
    "import re\n",
    "data1 = input('Enter data to be replaced ')\n",
    "data2 = input('Enter data to replace existing one ')\n",
    "name = input(\"Enter the name of file \")\n",
    "with open(name, 'r+') as f:\n",
    "    data = f.read()\n",
    "    data = re.sub(data1, data2, data)\n",
    "    f.seek(0)\n",
    "    f.write(data)\n",
    "    f.close()"
   ]
  },
  {
   "cell_type": "code",
   "execution_count": 2,
   "id": "d0aa3024",
   "metadata": {},
   "outputs": [
    {
     "data": {
      "text/plain": [
       "'Hello everyone this is Pushpa latha from SRM-AP. I hope you all are good.\\n This is file indexing and it operates basically on two modes read and write\\nThe read mode ensures the text is readen by user.\\nAnd the write mode ensures that the text is written and we have another mode known as append which add to the text We also have seek and tell seek ensures to print the lines.Dear Candidate,We here at Foxmula, came across your profile \\nwhile sourcing candidates for our corporate clients to fulfil their requirement.Given we havent selected you for one of those positions, we are elated to inform you that your profile has been shortlisted\\n for our Microsoft certification, training and internship programs.These programs are designed to build one profile from scratch with practical training\\n from experts, globally recognised certificates and your initial work experience in any field you fancy.So go ahead and apply via the link given below. If you meet the standards, our counsellors will contact you and we can move on from there.Yess'"
      ]
     },
     "execution_count": 2,
     "metadata": {},
     "output_type": "execute_result"
    }
   ],
   "source": [
    "f=open('pus.txt','r')\n",
    "f.read()"
   ]
  },
  {
   "cell_type": "code",
   "execution_count": null,
   "id": "242c3583",
   "metadata": {},
   "outputs": [],
   "source": []
  }
 ],
 "metadata": {
  "kernelspec": {
   "display_name": "Python 3",
   "language": "python",
   "name": "python3"
  },
  "language_info": {
   "codemirror_mode": {
    "name": "ipython",
    "version": 3
   },
   "file_extension": ".py",
   "mimetype": "text/x-python",
   "name": "python",
   "nbconvert_exporter": "python",
   "pygments_lexer": "ipython3",
   "version": "3.8.8"
  }
 },
 "nbformat": 4,
 "nbformat_minor": 5
}
